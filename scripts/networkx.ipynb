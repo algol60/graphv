{
 "cells": [
  {
   "cell_type": "markdown",
   "id": "629a8e62-57fa-4657-a54c-1172e5c06496",
   "metadata": {},
   "source": [
    "# Random geometric graph"
   ]
  },
  {
   "cell_type": "code",
   "execution_count": null,
   "id": "dbc79c5d-7a90-4e5a-8a4f-0cc4c25dc53d",
   "metadata": {},
   "outputs": [],
   "source": [
    "import matplotlib.pyplot as plt\n",
    "import networkx as nx\n",
    "import random\n",
    "import uuid\n",
    "\n",
    "from faker import Faker\n",
    "from datetime import datetime\n",
    "import json"
   ]
  },
  {
   "cell_type": "code",
   "execution_count": null,
   "id": "343a38e4-c97a-447a-9c4d-402b2308be66",
   "metadata": {},
   "outputs": [],
   "source": [
    "# Use seed when creating the graph for reproducibility\n",
    "G = nx.random_geometric_graph(200, 0.125, seed=896803)\n",
    "# position is stored as node attribute data for random_geometric_graph\n",
    "pos = nx.get_node_attributes(G, \"pos\")\n",
    "\n",
    "# find node near center (0.5,0.5)\n",
    "dmin = 1\n",
    "ncenter = 0\n",
    "for n in pos:\n",
    "    x, y = pos[n]\n",
    "    d = (x - 0.5) ** 2 + (y - 0.5) ** 2\n",
    "    if d < dmin:\n",
    "        ncenter = n\n",
    "        dmin = d\n",
    "\n",
    "# color by path length from node near center\n",
    "p = dict(nx.single_source_shortest_path_length(G, ncenter))\n",
    "\n",
    "plt.figure(figsize=(8, 8))\n",
    "nx.draw_networkx_edges(G, pos, alpha=0.4)\n",
    "nx.draw_networkx_nodes(\n",
    "    G,\n",
    "    pos,\n",
    "    nodelist=list(p.keys()),\n",
    "    node_size=80,\n",
    "    node_color=list(p.values()),\n",
    "    cmap=plt.cm.Reds_r,\n",
    ")\n",
    "\n",
    "plt.xlim(-0.05, 1.05)\n",
    "plt.ylim(-0.05, 1.05)\n",
    "plt.show()"
   ]
  },
  {
   "cell_type": "code",
   "execution_count": null,
   "id": "e63ff2b0-9311-4f77-a167-d2bd213ebbdc",
   "metadata": {},
   "outputs": [],
   "source": [
    "fake = Faker(['en', 'zh'])\n",
    "graph = {'nodes':[], 'edges':[]}\n",
    "\n",
    "nodes = graph['nodes']\n",
    "for k, v in dict(G.nodes.data()).items():\n",
    "    x, y = v['pos']\n",
    "    \n",
    "    nodes.append({\n",
    "        'id': str(uuid.uuid4()),\n",
    "        'entityClass': random.choice(['A', 'B', 'C', 'D', 'E']),\n",
    "        'label': fake.name(),\n",
    "        'x': x * 100,\n",
    "        'y': y * 100\n",
    "    })"
   ]
  },
  {
   "cell_type": "code",
   "execution_count": null,
   "id": "65968ff8-397e-49bb-900a-0962fe236487",
   "metadata": {},
   "outputs": [],
   "source": [
    "edges = graph['edges']\n",
    "for v in G.edges.data():\n",
    "    src, dst, _ = v\n",
    "    edges.append({\n",
    "        'label': random.choice(['THIS', 'THAT', 'OTHER', 'NEXT_TO', 'NEAR']),\n",
    "        'source': src,\n",
    "        'target': dst,\n",
    "        'date': datetime.isoformat(fake.date_time_this_decade())\n",
    "    })"
   ]
  },
  {
   "cell_type": "code",
   "execution_count": null,
   "id": "987b41ea-6c9d-41f1-93dd-256dd0adf359",
   "metadata": {},
   "outputs": [],
   "source": [
    "# json.dumps(graph)"
   ]
  },
  {
   "cell_type": "code",
   "execution_count": null,
   "id": "51828edd-ad25-4447-a50c-2c4b393578b8",
   "metadata": {},
   "outputs": [],
   "source": [
    "with open('/tmp/graph.json', 'w', encoding='UTF-8') as f:\n",
    "    json.dump(graph, f)"
   ]
  },
  {
   "cell_type": "code",
   "execution_count": null,
   "id": "1bd21b64-055f-4e1f-8f07-6da9b1facbca",
   "metadata": {},
   "outputs": [],
   "source": []
  }
 ],
 "metadata": {
  "kernelspec": {
   "display_name": "Python 3 (ipykernel)",
   "language": "python",
   "name": "python3"
  },
  "language_info": {
   "codemirror_mode": {
    "name": "ipython",
    "version": 3
   },
   "file_extension": ".py",
   "mimetype": "text/x-python",
   "name": "python",
   "nbconvert_exporter": "python",
   "pygments_lexer": "ipython3",
   "version": "3.10.9"
  }
 },
 "nbformat": 4,
 "nbformat_minor": 5
}
